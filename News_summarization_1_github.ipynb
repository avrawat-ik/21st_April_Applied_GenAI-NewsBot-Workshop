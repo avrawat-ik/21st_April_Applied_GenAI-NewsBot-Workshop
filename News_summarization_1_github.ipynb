{
  "nbformat": 4,
  "nbformat_minor": 0,
  "metadata": {
    "colab": {
      "provenance": []
    },
    "kernelspec": {
      "name": "python3",
      "display_name": "Python 3"
    },
    "language_info": {
      "name": "python"
    }
  },
  "cells": [
    {
      "cell_type": "code",
      "source": [
        "from IPython.display import HTML, display\n",
        "\n",
        "def set_css():\n",
        "  display(HTML('''\n",
        "  <style>\n",
        "    pre {\n",
        "        white-space: pre-wrap;\n",
        "    }\n",
        "  </style>\n",
        "  '''))\n",
        "get_ipython().events.register('pre_run_cell', set_css)"
      ],
      "metadata": {
        "colab": {
          "base_uri": "https://localhost:8080/",
          "height": 17
        },
        "id": "d3ogWl-6VstY",
        "outputId": "53fd00e5-c8b3-43b3-a350-ac6a912afe88"
      },
      "execution_count": null,
      "outputs": [
        {
          "output_type": "display_data",
          "data": {
            "text/plain": [
              "<IPython.core.display.HTML object>"
            ],
            "text/html": [
              "\n",
              "  <style>\n",
              "    pre {\n",
              "        white-space: pre-wrap;\n",
              "    }\n",
              "  </style>\n",
              "  "
            ]
          },
          "metadata": {}
        }
      ]
    },
    {
      "cell_type": "code",
      "source": [
        "!pip install --upgrade pynytimes\n",
        "\n",
        "from pynytimes import NYTAPI\n",
        "\n",
        "api_key = \"\" #insert API key here\n",
        "nyt = NYTAPI(api_key, parse_dates=True)\n",
        "\n",
        "sections = nyt.section_list()\n",
        "\n",
        "print (sections)"
      ],
      "metadata": {
        "colab": {
          "base_uri": "https://localhost:8080/",
          "height": 451
        },
        "id": "XK58OpKl77SU",
        "outputId": "95dfe764-cd56-454a-a750-e2b9ca2aa4d7"
      },
      "execution_count": null,
      "outputs": [
        {
          "output_type": "display_data",
          "data": {
            "text/plain": [
              "<IPython.core.display.HTML object>"
            ],
            "text/html": [
              "\n",
              "  <style>\n",
              "    pre {\n",
              "        white-space: pre-wrap;\n",
              "    }\n",
              "  </style>\n",
              "  "
            ]
          },
          "metadata": {}
        },
        {
          "output_type": "display_data",
          "data": {
            "text/plain": [
              "<IPython.core.display.HTML object>"
            ],
            "text/html": [
              "\n",
              "  <style>\n",
              "    pre {\n",
              "        white-space: pre-wrap;\n",
              "    }\n",
              "  </style>\n",
              "  "
            ]
          },
          "metadata": {}
        },
        {
          "output_type": "stream",
          "name": "stdout",
          "text": [
            "Requirement already satisfied: pynytimes in /usr/local/lib/python3.10/dist-packages (0.10.0)\n",
            "Requirement already satisfied: requests<3.0.0,>=2.10.0 in /usr/local/lib/python3.10/dist-packages (from pynytimes) (2.31.0)\n",
            "Requirement already satisfied: urllib3 in /usr/local/lib/python3.10/dist-packages (from pynytimes) (2.0.7)\n",
            "Requirement already satisfied: charset-normalizer<4,>=2 in /usr/local/lib/python3.10/dist-packages (from requests<3.0.0,>=2.10.0->pynytimes) (3.3.2)\n",
            "Requirement already satisfied: idna<4,>=2.5 in /usr/local/lib/python3.10/dist-packages (from requests<3.0.0,>=2.10.0->pynytimes) (3.7)\n",
            "Requirement already satisfied: certifi>=2017.4.17 in /usr/local/lib/python3.10/dist-packages (from requests<3.0.0,>=2.10.0->pynytimes) (2024.2.2)\n",
            "[{'section': 'admin', 'display_name': 'Admin'}, {'section': 'arts', 'display_name': 'Arts'}, {'section': 'automobiles', 'display_name': 'Automobiles'}, {'section': 'books', 'display_name': 'Books'}, {'section': 'briefing', 'display_name': 'Briefing'}, {'section': 'business', 'display_name': 'Business'}, {'section': 'climate', 'display_name': 'Climate'}, {'section': 'corrections', 'display_name': 'Corrections'}, {'section': 'education', 'display_name': 'Education'}, {'section': 'en español', 'display_name': 'En español'}, {'section': 'fashion', 'display_name': 'Fashion'}, {'section': 'food', 'display_name': 'Food'}, {'section': 'gameplay', 'display_name': 'Gameplay'}, {'section': 'guide', 'display_name': 'Guide'}, {'section': 'health', 'display_name': 'Health'}, {'section': 'home & garden', 'display_name': 'Home & Garden'}, {'section': 'home page', 'display_name': 'Home Page'}, {'section': 'job market', 'display_name': 'Job Market'}, {'section': 'the learning network', 'display_name': 'The Learning Network'}, {'section': 'lens', 'display_name': 'Lens'}, {'section': 'magazine', 'display_name': 'Magazine'}, {'section': 'movies', 'display_name': 'Movies'}, {'section': 'multimedia/photos', 'display_name': 'Multimedia/Photos'}, {'section': 'new york', 'display_name': 'New York'}, {'section': 'obituaries', 'display_name': 'Obituaries'}, {'section': 'opinion', 'display_name': 'Opinion'}, {'section': 'parenting', 'display_name': 'Parenting'}, {'section': 'podcasts', 'display_name': 'Podcasts'}, {'section': 'reader center', 'display_name': 'Reader Center'}, {'section': 'real estate', 'display_name': 'Real Estate'}, {'section': 'smarter living', 'display_name': 'Smarter Living'}, {'section': 'science', 'display_name': 'Science'}, {'section': 'sports', 'display_name': 'Sports'}, {'section': 'style', 'display_name': 'Style'}, {'section': 'sunday review', 'display_name': 'Sunday Review'}, {'section': 't brand', 'display_name': 'T Brand'}, {'section': 't magazine', 'display_name': 'T Magazine'}, {'section': 'technology', 'display_name': 'Technology'}, {'section': 'theater', 'display_name': 'Theater'}, {'section': 'times insider', 'display_name': 'Times Insider'}, {'section': 'today’s paper', 'display_name': 'Today’s Paper'}, {'section': 'travel', 'display_name': 'Travel'}, {'section': 'u.s.', 'display_name': 'U.S.'}, {'section': 'universal', 'display_name': 'Universal'}, {'section': 'the upshot', 'display_name': 'The Upshot'}, {'section': 'video', 'display_name': 'Video'}, {'section': 'the weekly', 'display_name': 'The Weekly'}, {'section': 'well', 'display_name': 'Well'}, {'section': 'world', 'display_name': 'World'}, {'section': 'your money', 'display_name': 'Your Money'}]\n"
          ]
        }
      ]
    },
    {
      "cell_type": "code",
      "execution_count": null,
      "metadata": {
        "colab": {
          "base_uri": "https://localhost:8080/",
          "height": 503
        },
        "id": "OPuuR4c2smkz",
        "outputId": "a8c809a5-e772-4152-ddb2-cf3dfa512f4c"
      },
      "outputs": [
        {
          "output_type": "display_data",
          "data": {
            "text/plain": [
              "<IPython.core.display.HTML object>"
            ],
            "text/html": [
              "\n",
              "  <style>\n",
              "    pre {\n",
              "        white-space: pre-wrap;\n",
              "    }\n",
              "  </style>\n",
              "  "
            ]
          },
          "metadata": {}
        },
        {
          "output_type": "display_data",
          "data": {
            "text/plain": [
              "<IPython.core.display.HTML object>"
            ],
            "text/html": [
              "\n",
              "  <style>\n",
              "    pre {\n",
              "        white-space: pre-wrap;\n",
              "    }\n",
              "  </style>\n",
              "  "
            ]
          },
          "metadata": {}
        },
        {
          "output_type": "execute_result",
          "data": {
            "text/plain": [
              "['Title: Apple Says It Was Ordered to Pull WhatsApp From China App Store. Abstract: Apple said it removed WhatsApp and Threads from its China app offerings Friday on Beijing’s orders, amid technological tensions between the U.S. and China.. URL: https://www.nytimes.com/2024/04/18/technology/apple-whatsapp-china-app-store.html. Byline: By Tripp Mickle and Mike Isaac.',\n",
              " 'Title: Start-Up Founder Sentenced to 18 Months in Prison for Fraud. Abstract: Manish Lachwani, who founded the software start-up HeadSpin, is the latest tech entrepreneur to face time in prison in recent years.. URL: https://www.nytimes.com/2024/04/19/technology/manish-lachwani-headspin-fraud.html. Byline: By Erin Griffith.',\n",
              " 'Title: Tesla Will Recall Cybertruck in Latest Setback. Abstract: A federal auto safety agency said the accelerator pedal on the pickup truck, sales of which began in late 2023, could become stuck, increasing the risk of accidents.. URL: https://www.nytimes.com/2024/04/19/business/tesla-cybertruck-recall.html. Byline: By J. Edward Moreno.',\n",
              " 'Title: The Music Episode. Abstract: “I feel like we’ve been at the club. I need some water and some electrolytes.”. URL: https://www.nytimes.com/2024/04/19/podcasts/hard-fork-music-episode.html. Byline: By Kevin Roose, Casey Newton, Davis Land, Rachel Cohn, Whitney Jones, Jen Poyant, Alyssa Moxley, Dan Powell, Elisheba Ittoop, Marion Lozano, Sophia Lanman and Rowan Niemisto.',\n",
              " 'Title: Welcome to Scam World. Abstract: To own a computer or smartphone — indeed, to engage with the digital world to any degree — is to be a mark. You can try to block, encrypt and unsubscribe your way out of it, but you may not succeed.. URL: https://www.nytimes.com/2024/04/21/style/scams-identity-theft.html. Byline: By Steven Kurutz.',\n",
              " 'Title: The TV Show That Predicted America’s Lonely, Disorienting Digital Future. Abstract: For 12 years, the MTV reality series “Catfish” has traveled the U.S., presenting hundreds of intimate snapshots of what can go wrong when the heart mixes with technology.. URL: https://www.nytimes.com/2024/04/21/arts/television/catfish-tv-show-season-9.html. Byline: By Maya Salam.',\n",
              " 'Title: Love, Hate or Fear It: TikTok Has Changed America. Abstract: Nineteen ways the app rewired our culture.. URL: https://www.nytimes.com/interactive/2024/04/18/business/media/tiktok-ban-american-culture.html. Byline: By Ashwin Seshagiri, Mike Dang, Anemona Hartocollis, Kashmir Hill, Becky Hughes, Santul Nerkar, Jordyn Holman, Michael M. Grynbaum, Ellen Barry, Vanessa Friedman, Dana G. Smith, Amanda Hess, Natasha Singer, David E. Sanger, Ben Sisario, Tiffany Hsu, Sapna Maheshwari and Brooks Barnes.',\n",
              " 'Title: Netflix Added More Than 9 Million Subscribers in First Quarter. Abstract: The company’s revenue was 15 percent higher compared with last year, and it solidified its standing as the entertainment company’s dominant streaming service.. URL: https://www.nytimes.com/2024/04/18/business/media/netflix-earnings.html. Byline: By Nicole Sperling and Benjamin Mullin.',\n",
              " 'Title: Micron Will Receive $6.1 Billion to Build Semiconductor Plants. Abstract: The grant to the memory chipmaker is the latest federal award aimed at boosting U.S. chip manufacturing.. URL: https://www.nytimes.com/2024/04/18/technology/micron-semiconductor-award-chips-act.html. Byline: By Madeleine Ngo and Don Clark.']"
            ]
          },
          "metadata": {},
          "execution_count": 14
        }
      ],
      "source": [
        "section = \"technology\"\n",
        "\n",
        "keys = ['title', 'abstract', 'url', 'byline',]\n",
        "\n",
        "top_stories = nyt.top_stories(section=section)  # This is your API call\n",
        "top_stories = top_stories[0:9]  # Get the first 10 stories\n",
        "\n",
        "top_stories_filtered = [{k: story[k] for k in keys if k in story} for story in top_stories]\n",
        "\n",
        "story_strings = []\n",
        "for story in top_stories_filtered:\n",
        "    story_string = \"Title: \" + story['title'] + \". Abstract: \" + story['abstract'] + \". URL: \" + story['url'] + \". Byline: \" + story['byline'] + \".\"\n",
        "    story_strings.append(story_string)\n",
        "\n",
        "\n",
        "story_strings"
      ]
    },
    {
      "cell_type": "code",
      "source": [
        "articles = story_strings\n",
        "\n",
        "query = \"<Summarize titles only related to artificial intelligence>\"\n",
        "\n",
        "userInput = query + ' '.join(articles)\n",
        "\n",
        "\n",
        "userInput"
      ],
      "metadata": {
        "colab": {
          "base_uri": "https://localhost:8080/",
          "height": 139
        },
        "id": "wPCw_Fl6t_tK",
        "outputId": "0e3b12f7-35f1-40f0-b0c4-1baf5b9f91b1"
      },
      "execution_count": null,
      "outputs": [
        {
          "output_type": "display_data",
          "data": {
            "text/plain": [
              "<IPython.core.display.HTML object>"
            ],
            "text/html": [
              "\n",
              "  <style>\n",
              "    pre {\n",
              "        white-space: pre-wrap;\n",
              "    }\n",
              "  </style>\n",
              "  "
            ]
          },
          "metadata": {}
        },
        {
          "output_type": "display_data",
          "data": {
            "text/plain": [
              "<IPython.core.display.HTML object>"
            ],
            "text/html": [
              "\n",
              "  <style>\n",
              "    pre {\n",
              "        white-space: pre-wrap;\n",
              "    }\n",
              "  </style>\n",
              "  "
            ]
          },
          "metadata": {}
        },
        {
          "output_type": "execute_result",
          "data": {
            "text/plain": [
              "'<Summarize titles only related to artificial intelligence>Title: Apple Says It Was Ordered to Pull WhatsApp From China App Store. Abstract: Apple said it removed WhatsApp and Threads from its China app offerings Friday on Beijing’s orders, amid technological tensions between the U.S. and China.. URL: https://www.nytimes.com/2024/04/18/technology/apple-whatsapp-china-app-store.html. Byline: By Tripp Mickle and Mike Isaac. Title: Start-Up Founder Sentenced to 18 Months in Prison for Fraud. Abstract: Manish Lachwani, who founded the software start-up HeadSpin, is the latest tech entrepreneur to face time in prison in recent years.. URL: https://www.nytimes.com/2024/04/19/technology/manish-lachwani-headspin-fraud.html. Byline: By Erin Griffith. Title: Tesla Will Recall Cybertruck in Latest Setback. Abstract: A federal auto safety agency said the accelerator pedal on the pickup truck, sales of which began in late 2023, could become stuck, increasing the risk of accidents.. URL: https://www.nytimes.com/2024/04/19/business/tesla-cybertruck-recall.html. Byline: By J. Edward Moreno. Title: The Music Episode. Abstract: “I feel like we’ve been at the club. I need some water and some electrolytes.”. URL: https://www.nytimes.com/2024/04/19/podcasts/hard-fork-music-episode.html. Byline: By Kevin Roose, Casey Newton, Davis Land, Rachel Cohn, Whitney Jones, Jen Poyant, Alyssa Moxley, Dan Powell, Elisheba Ittoop, Marion Lozano, Sophia Lanman and Rowan Niemisto. Title: Welcome to Scam World. Abstract: To own a computer or smartphone — indeed, to engage with the digital world to any degree — is to be a mark. You can try to block, encrypt and unsubscribe your way out of it, but you may not succeed.. URL: https://www.nytimes.com/2024/04/21/style/scams-identity-theft.html. Byline: By Steven Kurutz. Title: The TV Show That Predicted America’s Lonely, Disorienting Digital Future. Abstract: For 12 years, the MTV reality series “Catfish” has traveled the U.S., presenting hundreds of intimate snapshots of what can go wrong when the heart mixes with technology.. URL: https://www.nytimes.com/2024/04/21/arts/television/catfish-tv-show-season-9.html. Byline: By Maya Salam. Title: Love, Hate or Fear It: TikTok Has Changed America. Abstract: Nineteen ways the app rewired our culture.. URL: https://www.nytimes.com/interactive/2024/04/18/business/media/tiktok-ban-american-culture.html. Byline: By Ashwin Seshagiri, Mike Dang, Anemona Hartocollis, Kashmir Hill, Becky Hughes, Santul Nerkar, Jordyn Holman, Michael M. Grynbaum, Ellen Barry, Vanessa Friedman, Dana G. Smith, Amanda Hess, Natasha Singer, David E. Sanger, Ben Sisario, Tiffany Hsu, Sapna Maheshwari and Brooks Barnes. Title: Netflix Added More Than 9 Million Subscribers in First Quarter. Abstract: The company’s revenue was 15 percent higher compared with last year, and it solidified its standing as the entertainment company’s dominant streaming service.. URL: https://www.nytimes.com/2024/04/18/business/media/netflix-earnings.html. Byline: By Nicole Sperling and Benjamin Mullin. Title: Micron Will Receive $6.1 Billion to Build Semiconductor Plants. Abstract: The grant to the memory chipmaker is the latest federal award aimed at boosting U.S. chip manufacturing.. URL: https://www.nytimes.com/2024/04/18/technology/micron-semiconductor-award-chips-act.html. Byline: By Madeleine Ngo and Don Clark.'"
            ],
            "application/vnd.google.colaboratory.intrinsic+json": {
              "type": "string"
            }
          },
          "metadata": {},
          "execution_count": 15
        }
      ]
    },
    {
      "cell_type": "code",
      "source": [
        "from IPython.core.display import display, HTML\n",
        "import requests\n",
        "import json\n",
        "\n",
        "prompt = \"\"\"\n",
        "\n",
        "You are a reading assistant that answer user <query> based on a list of titles..\n",
        "For every sentence you write, you cite the titles name.\n",
        "\n",
        "At the end of your answer:\n",
        "1. Add keywords from the titles.\n",
        "2. Create a sources list of each result you cited, with the title name,\n",
        "author, and a link in HTML tag format with _blank.\n",
        "\n",
        "If the Titles are not related to the query, tell that to the reader.\n",
        "\n",
        "\"\"\"\n",
        "\n",
        "def fetch_chat_completion(userInput):\n",
        "    api_url = 'https://api.openai.com/v1/chat/completions'\n",
        "    headers = {\n",
        "        'Content-Type': 'application/json',\n",
        "        'Authorization': 'Bearer ', #insert API key here\n",
        "    }\n",
        "\n",
        "    body = {\n",
        "        \"model\": \"gpt-4\",\n",
        "        \"messages\": [\n",
        "            {\n",
        "                \"role\": \"system\",\n",
        "                \"content\": prompt\n",
        "            },\n",
        "            {\n",
        "                \"role\": \"user\",\n",
        "                \"content\": userInput\n",
        "            }\n",
        "        ]\n",
        "    }\n",
        "\n",
        "    try:\n",
        "        response = requests.post(api_url, headers=headers, data=json.dumps(body))\n",
        "        response.raise_for_status()\n",
        "        chat_completion_answer = response.json()['choices'][0]['message']['content'].replace('\\\\n', '<br>')\n",
        "        print (chat_completion_answer)\n",
        "    except requests.exceptions.HTTPError as err:\n",
        "        print(f\"Error calling the API: {err}\")\n",
        "\n",
        "display(HTML(fetch_chat_completion(userInput)))"
      ],
      "metadata": {
        "colab": {
          "base_uri": "https://localhost:8080/",
          "height": 277
        },
        "id": "om7GDs1GuNi-",
        "outputId": "3dafb30e-973e-4abd-ef24-b61e71f721f7"
      },
      "execution_count": null,
      "outputs": [
        {
          "output_type": "display_data",
          "data": {
            "text/plain": [
              "<IPython.core.display.HTML object>"
            ],
            "text/html": [
              "\n",
              "  <style>\n",
              "    pre {\n",
              "        white-space: pre-wrap;\n",
              "    }\n",
              "  </style>\n",
              "  "
            ]
          },
          "metadata": {}
        },
        {
          "output_type": "display_data",
          "data": {
            "text/plain": [
              "<IPython.core.display.HTML object>"
            ],
            "text/html": [
              "\n",
              "  <style>\n",
              "    pre {\n",
              "        white-space: pre-wrap;\n",
              "    }\n",
              "  </style>\n",
              "  "
            ]
          },
          "metadata": {}
        },
        {
          "output_type": "stream",
          "name": "stdout",
          "text": [
            "A few of these titles are related to the broader field of technology, but not specifically to Artificial Intelligence. For instance, \"Apple Says It Was Ordered to Pull WhatsApp from China App Store\" speaks to tensions and regulations with technology services but doesn't mention AI. \"Start-Up Founder Sentenced to 18 Months in Prison for Fraud\" speaks to issues in tech entrepreneurship but doesn't touch on AI. \"Tesla Will Recall Cybertruck in Latest Setback\" discusses a product recall issue, not involving AI. \"The Music Episode\" seems unrelated. \"Welcome to Scam World\" and \"The TV Show That Predicted America’s Lonely, Disorienting Digital Future\" talk about aspects of living in a digital era but not AI. \"Love, Hate or Fear It: TikTok Has Changed America\" reflects the impact of a specific digital app on society, but this doesn't directly associate with AI. \"Netflix Added More Than 9 Million Subscribers in First Quarter\" and \"Micron Will Receive $6.1 Billion to Build Semiconductor Plants\" talk about digital platform growth and hardware production respectively, but do not specifically refer to AI. \n",
            "\n",
            "Keywords: Apple, WhatsApp, China, Apple Store, Start-up, Entrepreneur, Fraud, Tesla, Cybertruck, Recall, Music, Scam, Digital World, Snapchat, TV, Digital Future, TikTok, America, Netflix, Subscribers, Micron, Semiconductor Plants.\n",
            "\n",
            "I am unable to provide a list of the titles as they are not directly related to Artificial Intelligence. It would be misleading to cite their content in answering a query related to AI.\n"
          ]
        },
        {
          "output_type": "display_data",
          "data": {
            "text/plain": [
              "<IPython.core.display.HTML object>"
            ]
          },
          "metadata": {}
        }
      ]
    },
    {
      "cell_type": "code",
      "source": [
        "\n"
      ],
      "metadata": {
        "id": "RitKHQ_rvZID"
      },
      "execution_count": null,
      "outputs": []
    }
  ]
}